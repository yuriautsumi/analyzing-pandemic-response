{
 "cells": [
  {
   "cell_type": "code",
   "execution_count": 1,
   "metadata": {},
   "outputs": [
    {
     "data": {
      "text/plain": [
       "<module 'constants' from '/Users/yutsumi/github/cic-covid-working-group/covid-policy/constants.py'>"
      ]
     },
     "execution_count": 1,
     "metadata": {},
     "output_type": "execute_result"
    }
   ],
   "source": [
    "import os\n",
    "import re\n",
    "import glob\n",
    "import math\n",
    "import copy\n",
    "import pickle\n",
    "import dowhy\n",
    "import econml\n",
    "import importlib\n",
    "import numpy as np\n",
    "import pandas as pd\n",
    "import matplotlib.pyplot as plt\n",
    "\n",
    "import causal_analysis_helper\n",
    "import analysis_helper\n",
    "import data_helper\n",
    "import tsa_helper\n",
    "import config\n",
    "import utils\n",
    "# from data_helper import get_OxCGRT_data_loader\n",
    "\n",
    "importlib.reload(causal_analysis_helper)\n",
    "importlib.reload(analysis_helper)\n",
    "importlib.reload(data_helper)\n",
    "importlib.reload(tsa_helper)\n",
    "importlib.reload(config)\n",
    "importlib.reload(utils)\n",
    "\n",
    "from textwrap import wrap\n",
    "from dowhy import CausalModel\n",
    "from datetime import date, datetime\n",
    "\n",
    "import constants as C\n",
    "importlib.reload(C)"
   ]
  },
  {
   "cell_type": "code",
   "execution_count": 2,
   "metadata": {},
   "outputs": [
    {
     "name": "stdout",
     "output_type": "stream",
     "text": [
      "Loading Google Mobility data...\n",
      "Done!\n",
      "Loading hospital data...\n",
      "File was found. Unpickling...\n",
      "Done!\n",
      "File was not found. \n",
      "Processing data...\n",
      "Loading demographic data from US Census tables...\n",
      "Done!\n",
      "Loading OxCGRT pandemic response data...\n",
      "Done!\n",
      "Apply differencing, adjust outcomes by population\n",
      "----- Policy C -----\n",
      "----- Policy H -----\n",
      "----- Policy E -----\n",
      "----- Policy V -----\n",
      "----- Policy C -----\n",
      "----- Policy H -----\n",
      "----- Policy E -----\n",
      "----- Policy V -----\n",
      "Apply differencing, adjust outcomes by population\n",
      "----- Policy C -----\n",
      "----- Policy H -----\n",
      "----- Policy E -----\n",
      "----- Policy V -----\n",
      "----- Policy C -----\n",
      "----- Policy H -----\n",
      "----- Policy E -----\n",
      "----- Policy V -----\n"
     ]
    }
   ],
   "source": [
    "importlib.reload(data_helper)\n",
    "\n",
    "# Load data\n",
    "((subnational_df, national_df, data_to_df,\n",
    "  data_to_columns, data_to_column_map, OxCGRT_policy_columns),\n",
    " (subnational_df_unfiltered, national_df_unfiltered, data_to_df_unfiltered,\n",
    "  data_to_columns_unfiltered, data_to_column_map_unfiltered, OxCGRT_policy_columns_unfiltered)) = data_helper.load_all_data()\n",
    "\n",
    "# Post-processing. Update columns info as needed.\n",
    "subnational_df, national_df, data_to_column_map, outcome_ts_ahead_columns_map,\\\n",
    "diff_policy_index_columns, diff_outcome_columns, date_column, outcome_columns = \\\n",
    "  data_helper.post_process_data(subnational_df, national_df, data_to_column_map, OxCGRT_policy_columns)\n",
    "\n",
    "subnational_df_unfiltered, national_df_unfiltered, data_to_column_map_unfiltered, outcome_ts_ahead_columns_map_unfiltered,\\\n",
    "diff_policy_index_columns_unfiltered, diff_outcome_columns_unfiltered, _, _ = \\\n",
    "  data_helper.post_process_data(subnational_df_unfiltered, national_df_unfiltered, data_to_column_map_unfiltered, OxCGRT_policy_columns_unfiltered)\n",
    "\n",
    "# Consolidate/process columns\n",
    "all_data_columns_map, rcode_to_rname, rname_to_rcode, N_columns, get_dims = \\\n",
    "data_helper.process_columns(subnational_df, data_to_column_map, outcome_ts_ahead_columns_map, diff_outcome_columns, OxCGRT_policy_columns)\n",
    "\n",
    "all_data_columns_map_unfiltered, _, _, N_columns_unfiltered, get_dims_unfiltered = \\\n",
    "data_helper.process_columns(subnational_df_unfiltered, data_to_column_map_unfiltered, outcome_ts_ahead_columns_map_unfiltered, \n",
    "                            diff_outcome_columns_unfiltered, OxCGRT_policy_columns_unfiltered)\n",
    "\n",
    "all_data_columns = np.concatenate(list(all_data_columns_map.values()))\n",
    "all_data_columns_unfiltered = np.concatenate(list(all_data_columns_map_unfiltered.values()))"
   ]
  },
  {
   "cell_type": "code",
   "execution_count": null,
   "metadata": {},
   "outputs": [],
   "source": []
  }
 ],
 "metadata": {
  "kernelspec": {
   "display_name": "cic",
   "language": "python",
   "name": "python3"
  },
  "language_info": {
   "codemirror_mode": {
    "name": "ipython",
    "version": 3
   },
   "file_extension": ".py",
   "mimetype": "text/x-python",
   "name": "python",
   "nbconvert_exporter": "python",
   "pygments_lexer": "ipython3",
   "version": "3.9.18"
  }
 },
 "nbformat": 4,
 "nbformat_minor": 2
}
